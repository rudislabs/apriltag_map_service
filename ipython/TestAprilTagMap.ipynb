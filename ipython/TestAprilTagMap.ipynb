{
 "cells": [
  {
   "cell_type": "code",
   "execution_count": 17,
   "metadata": {
    "collapsed": false
   },
   "outputs": [
    {
     "data": {
      "text/plain": [
       "array([ 0.04150677,  0.7056858 ,  0.70611006, -0.03980973])"
      ]
     },
     "execution_count": 17,
     "metadata": {},
     "output_type": "execute_result"
    }
   ],
   "source": [
    "import json\n",
    "import numpy as np\n",
    "\n",
    "\n",
    "def qmult(q1, q0):\n",
    "    x0, y0, z0, w0 = q0\n",
    "    x1, y1, z1, w1 = q1\n",
    "    return np.array([-x1 * x0 - y1 * y0 - z1 * z0 + w1 * w0,\n",
    "                     x1 * w0 + y1 * z0 - z1 * y0 + w1 * x0,\n",
    "                     -x1 * z0 + y1 * w0 + z1 * x0 + w1 * y0,\n",
    "                     x1 * y0 - y1 * x0 + z1 * w0 + w1 * z0], dtype=np.float64)\n",
    "\n",
    "file = \"testaprilpose.json\"\n",
    "with open(file, 'r') as f1:\n",
    "    testaprilpose_data = json.load(f1)\n",
    "type(testaprilpose_data)\n",
    "tag_read_loc=testaprilpose_data[\"TAG_0\"]\n",
    "\n",
    "tag_read = [-.5032, -.2147,1.3717,.9983,.0003,.0012,.0575]\n",
    "tag_read_map_coord_XYZ = [tag_read[0],-tag_read[2],tag_read[1]]\n",
    "map_coord_trans = [0.0,0.0,0.0,0.0]\n",
    "tag_read_map_coord_Q = qmult(tag_read[3:],tag_read_loc[3:])\n",
    "\n",
    "\n"
   ]
  },
  {
   "cell_type": "code",
   "execution_count": null,
   "metadata": {
    "collapsed": true
   },
   "outputs": [],
   "source": []
  }
 ],
 "metadata": {
  "kernelspec": {
   "display_name": "Python 2",
   "language": "python",
   "name": "python2"
  },
  "language_info": {
   "codemirror_mode": {
    "name": "ipython",
    "version": 2
   },
   "file_extension": ".py",
   "mimetype": "text/x-python",
   "name": "python",
   "nbconvert_exporter": "python",
   "pygments_lexer": "ipython2",
   "version": "2.7.12"
  }
 },
 "nbformat": 4,
 "nbformat_minor": 2
}
